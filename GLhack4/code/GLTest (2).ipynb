{
  "nbformat": 4,
  "nbformat_minor": 0,
  "metadata": {
    "accelerator": "GPU",
    "colab": {
      "name": "GLTest.ipynb",
      "provenance": [],
      "collapsed_sections": []
    },
    "kernelspec": {
      "display_name": "Python 3",
      "name": "python3"
    }
  },
  "cells": [
    {
      "cell_type": "code",
      "metadata": {
        "id": "h_5barHl931X"
      },
      "source": [
        "# numpy and pandas imports\r\n",
        "import numpy as np\r\n",
        "import pandas as pd\r\n",
        "import matplotlib.pyplot as plt\r\n",
        "import seaborn as sns\r\n",
        "%matplotlib inline\r\n",
        "\r\n",
        "# ML Libraries for scikit\r\n",
        "from sklearn.model_selection import train_test_split\r\n",
        "from sklearn import preprocessing\r\n",
        "from sklearn.preprocessing import RobustScaler\r\n",
        "from sklearn.linear_model import LogisticRegression\r\n",
        "from sklearn.ensemble import RandomForestClassifier\r\n",
        "from sklearn.tree import DecisionTreeClassifier \r\n",
        "from sklearn.ensemble import VotingClassifier\r\n",
        "from sklearn import tree\r\n",
        "from sklearn.metrics import accuracy_score,classification_report,confusion_matrix,\\\r\n",
        "                            precision_recall_curve,precision_score,recall_score,roc_auc_score,roc_curve,\\\r\n",
        "                            matthews_corrcoef, f1_score, make_scorer, auc\r\n",
        "from scipy.stats import skew\r\n",
        "\r\n",
        "#  Recursive Feature Elimination\r\n",
        "from sklearn.feature_selection import RFE\r\n",
        "        \r\n",
        "# Python imports\r\n",
        "from math import log, sqrt\r\n",
        "import re\r\n",
        "import collections\r\n",
        "import warnings\r\n",
        "\r\n",
        "# decision tree visualization related imports\r\n",
        "import pydotplus\r\n",
        "import graphviz\r\n",
        "\r\n",
        "from IPython.display import Image\r\n",
        "\r\n",
        "warnings.filterwarnings('ignore')\r\n",
        "\r\n",
        "pd.options.display.max_columns = 400"
      ],
      "execution_count": null,
      "outputs": []
    },
    {
      "cell_type": "code",
      "metadata": {
        "id": "rerDyAif_Fey"
      },
      "source": [
        "train = pd.read_csv('/content/drive/MyDrive/DataSets/GLhack4/train.csv')\r\n",
        "test = pd.read_csv('/content/drive/MyDrive/DataSets/GLhack4/test.csv')\r\n",
        "sample= pd.read_csv('/content/drive/MyDrive/DataSets/GLhack4/sample_submission.csv')"
      ],
      "execution_count": null,
      "outputs": []
    },
    {
      "cell_type": "code",
      "metadata": {
        "colab": {
          "base_uri": "https://localhost:8080/"
        },
        "id": "4wKREgr4ipgW",
        "outputId": "8286c593-abac-4ca0-8c45-ca97f4c80d50"
      },
      "source": [
        "sample.info()"
      ],
      "execution_count": null,
      "outputs": [
        {
          "output_type": "stream",
          "text": [
            "<class 'pandas.core.frame.DataFrame'>\n",
            "RangeIndex: 6512 entries, 0 to 6511\n",
            "Data columns (total 1 columns):\n",
            " #   Column   Non-Null Count  Dtype\n",
            "---  ------   --------------  -----\n",
            " 0   netgain  6512 non-null   int64\n",
            "dtypes: int64(1)\n",
            "memory usage: 51.0 KB\n"
          ],
          "name": "stdout"
        }
      ]
    },
    {
      "cell_type": "code",
      "metadata": {
        "colab": {
          "base_uri": "https://localhost:8080/",
          "height": 197
        },
        "id": "HBGcE5_6_J04",
        "outputId": "4ee6ce92-c67e-488a-98b9-8fb70e0f7515"
      },
      "source": [
        "train.head()"
      ],
      "execution_count": null,
      "outputs": [
        {
          "output_type": "execute_result",
          "data": {
            "text/html": [
              "<div>\n",
              "<style scoped>\n",
              "    .dataframe tbody tr th:only-of-type {\n",
              "        vertical-align: middle;\n",
              "    }\n",
              "\n",
              "    .dataframe tbody tr th {\n",
              "        vertical-align: top;\n",
              "    }\n",
              "\n",
              "    .dataframe thead th {\n",
              "        text-align: right;\n",
              "    }\n",
              "</style>\n",
              "<table border=\"1\" class=\"dataframe\">\n",
              "  <thead>\n",
              "    <tr style=\"text-align: right;\">\n",
              "      <th></th>\n",
              "      <th>UserID</th>\n",
              "      <th>realtionship_status</th>\n",
              "      <th>industry</th>\n",
              "      <th>genre</th>\n",
              "      <th>targeted_sex</th>\n",
              "      <th>average_runtime(minutes_per_week)</th>\n",
              "      <th>airtime</th>\n",
              "      <th>airlocation</th>\n",
              "      <th>ratings</th>\n",
              "      <th>expensive</th>\n",
              "      <th>money_back_guarantee</th>\n",
              "      <th>netgain</th>\n",
              "    </tr>\n",
              "  </thead>\n",
              "  <tbody>\n",
              "    <tr>\n",
              "      <th>0</th>\n",
              "      <td>UI_9185</td>\n",
              "      <td>Married-civ-spouse</td>\n",
              "      <td>Pharma</td>\n",
              "      <td>Comedy</td>\n",
              "      <td>Male</td>\n",
              "      <td>40</td>\n",
              "      <td>Daytime</td>\n",
              "      <td>United-States</td>\n",
              "      <td>0.027465</td>\n",
              "      <td>Medium</td>\n",
              "      <td>No</td>\n",
              "      <td>0</td>\n",
              "    </tr>\n",
              "    <tr>\n",
              "      <th>1</th>\n",
              "      <td>UI_449</td>\n",
              "      <td>Never-married</td>\n",
              "      <td>Political</td>\n",
              "      <td>Comedy</td>\n",
              "      <td>Male</td>\n",
              "      <td>35</td>\n",
              "      <td>Morning</td>\n",
              "      <td>International</td>\n",
              "      <td>0.027465</td>\n",
              "      <td>Low</td>\n",
              "      <td>No</td>\n",
              "      <td>0</td>\n",
              "    </tr>\n",
              "    <tr>\n",
              "      <th>2</th>\n",
              "      <td>UI_9014</td>\n",
              "      <td>Never-married</td>\n",
              "      <td>Auto</td>\n",
              "      <td>Comedy</td>\n",
              "      <td>Male</td>\n",
              "      <td>40</td>\n",
              "      <td>Morning</td>\n",
              "      <td>United-States</td>\n",
              "      <td>0.027465</td>\n",
              "      <td>Low</td>\n",
              "      <td>No</td>\n",
              "      <td>0</td>\n",
              "    </tr>\n",
              "    <tr>\n",
              "      <th>3</th>\n",
              "      <td>UI_14987</td>\n",
              "      <td>Married-civ-spouse</td>\n",
              "      <td>Pharma</td>\n",
              "      <td>Infomercial</td>\n",
              "      <td>Male</td>\n",
              "      <td>40</td>\n",
              "      <td>Primetime</td>\n",
              "      <td>United-States</td>\n",
              "      <td>0.027465</td>\n",
              "      <td>Low</td>\n",
              "      <td>Yes</td>\n",
              "      <td>0</td>\n",
              "    </tr>\n",
              "    <tr>\n",
              "      <th>4</th>\n",
              "      <td>UI_25532</td>\n",
              "      <td>Married-civ-spouse</td>\n",
              "      <td>Other</td>\n",
              "      <td>Comedy</td>\n",
              "      <td>Female</td>\n",
              "      <td>50</td>\n",
              "      <td>Primetime</td>\n",
              "      <td>United-States</td>\n",
              "      <td>0.027465</td>\n",
              "      <td>Low</td>\n",
              "      <td>Yes</td>\n",
              "      <td>1</td>\n",
              "    </tr>\n",
              "  </tbody>\n",
              "</table>\n",
              "</div>"
            ],
            "text/plain": [
              "     UserID realtionship_status   industry        genre targeted_sex  \\\n",
              "0   UI_9185  Married-civ-spouse     Pharma       Comedy         Male   \n",
              "1    UI_449       Never-married  Political       Comedy         Male   \n",
              "2   UI_9014       Never-married       Auto       Comedy         Male   \n",
              "3  UI_14987  Married-civ-spouse     Pharma  Infomercial         Male   \n",
              "4  UI_25532  Married-civ-spouse      Other       Comedy       Female   \n",
              "\n",
              "   average_runtime(minutes_per_week)    airtime    airlocation   ratings  \\\n",
              "0                                 40    Daytime  United-States  0.027465   \n",
              "1                                 35    Morning  International  0.027465   \n",
              "2                                 40    Morning  United-States  0.027465   \n",
              "3                                 40  Primetime  United-States  0.027465   \n",
              "4                                 50  Primetime  United-States  0.027465   \n",
              "\n",
              "  expensive money_back_guarantee  netgain  \n",
              "0    Medium                   No        0  \n",
              "1       Low                   No        0  \n",
              "2       Low                   No        0  \n",
              "3       Low                  Yes        0  \n",
              "4       Low                  Yes        1  "
            ]
          },
          "metadata": {
            "tags": []
          },
          "execution_count": 106
        }
      ]
    },
    {
      "cell_type": "code",
      "metadata": {
        "colab": {
          "base_uri": "https://localhost:8080/"
        },
        "id": "vIBHXLyo_LLI",
        "outputId": "7d0c6956-a67a-4092-98c6-866d0e33a355"
      },
      "source": [
        "train.shape"
      ],
      "execution_count": null,
      "outputs": [
        {
          "output_type": "execute_result",
          "data": {
            "text/plain": [
              "(19536, 12)"
            ]
          },
          "metadata": {
            "tags": []
          },
          "execution_count": 107
        }
      ]
    },
    {
      "cell_type": "code",
      "metadata": {
        "colab": {
          "base_uri": "https://localhost:8080/"
        },
        "id": "tOBnPauR_MbY",
        "outputId": "d926edb9-1de7-4ee3-d099-26f21c4c6387"
      },
      "source": [
        "train.isnull().sum() # there are no null values"
      ],
      "execution_count": null,
      "outputs": [
        {
          "output_type": "execute_result",
          "data": {
            "text/plain": [
              "UserID                               0\n",
              "realtionship_status                  0\n",
              "industry                             0\n",
              "genre                                0\n",
              "targeted_sex                         0\n",
              "average_runtime(minutes_per_week)    0\n",
              "airtime                              0\n",
              "airlocation                          0\n",
              "ratings                              0\n",
              "expensive                            0\n",
              "money_back_guarantee                 0\n",
              "netgain                              0\n",
              "dtype: int64"
            ]
          },
          "metadata": {
            "tags": []
          },
          "execution_count": 108
        }
      ]
    },
    {
      "cell_type": "code",
      "metadata": {
        "colab": {
          "base_uri": "https://localhost:8080/",
          "height": 347
        },
        "id": "2l1tUyzKBP_a",
        "outputId": "28ac88cf-f9d9-4d59-f2d1-ca58f3688520"
      },
      "source": [
        "le = preprocessing.LabelEncoder()\r\n",
        "le.fit(train['realtionship_status'])\r\n",
        "list(le.classes_)\r\n",
        "train['relationship_status'] = le.transform(train['realtionship_status']) \r\n",
        "train.drop('realtionship_status',axis=1,inplace=True)\r\n",
        "\r\n",
        "le = preprocessing.LabelEncoder()\r\n",
        "le.fit(train['industry'])\r\n",
        "list(le.classes_)\r\n",
        "train['industry'] = le.transform(train['industry']) \r\n",
        "\r\n",
        "le.fit(train['genre'])\r\n",
        "list(le.classes_)\r\n",
        "train['genre'] = le.transform(train['genre']) \r\n",
        "\r\n",
        "train['targeted_sex'] = train['targeted_sex'].replace(['Male','Female'],['1','0'])\r\n",
        "\r\n",
        "le.fit(train['airtime'])\r\n",
        "list(le.classes_)\r\n",
        "train['airtime'] = le.transform(train['airtime']) \r\n",
        "\r\n",
        "le.fit(train['airlocation'])\r\n",
        "list(le.classes_)\r\n",
        "train['airlocation'] = le.transform(train['airlocation']) #try to normalize\r\n",
        "\r\n",
        "le.fit(train['expensive'])\r\n",
        "list(le.classes_)\r\n",
        "train['expensive'] = le.transform(train['expensive']) \r\n",
        "\r\n",
        "train['money_back_guarantee'] = train['money_back_guarantee'].replace(['Yes','No'],['1','0'])\r\n",
        "\r\n",
        "train.head(10)"
      ],
      "execution_count": null,
      "outputs": [
        {
          "output_type": "execute_result",
          "data": {
            "text/html": [
              "<div>\n",
              "<style scoped>\n",
              "    .dataframe tbody tr th:only-of-type {\n",
              "        vertical-align: middle;\n",
              "    }\n",
              "\n",
              "    .dataframe tbody tr th {\n",
              "        vertical-align: top;\n",
              "    }\n",
              "\n",
              "    .dataframe thead th {\n",
              "        text-align: right;\n",
              "    }\n",
              "</style>\n",
              "<table border=\"1\" class=\"dataframe\">\n",
              "  <thead>\n",
              "    <tr style=\"text-align: right;\">\n",
              "      <th></th>\n",
              "      <th>UserID</th>\n",
              "      <th>industry</th>\n",
              "      <th>genre</th>\n",
              "      <th>targeted_sex</th>\n",
              "      <th>average_runtime(minutes_per_week)</th>\n",
              "      <th>airtime</th>\n",
              "      <th>airlocation</th>\n",
              "      <th>ratings</th>\n",
              "      <th>expensive</th>\n",
              "      <th>money_back_guarantee</th>\n",
              "      <th>netgain</th>\n",
              "      <th>relationship_status</th>\n",
              "    </tr>\n",
              "  </thead>\n",
              "  <tbody>\n",
              "    <tr>\n",
              "      <th>0</th>\n",
              "      <td>UI_9185</td>\n",
              "      <td>4</td>\n",
              "      <td>0</td>\n",
              "      <td>1</td>\n",
              "      <td>40</td>\n",
              "      <td>0</td>\n",
              "      <td>39</td>\n",
              "      <td>0.027465</td>\n",
              "      <td>2</td>\n",
              "      <td>0</td>\n",
              "      <td>0</td>\n",
              "      <td>2</td>\n",
              "    </tr>\n",
              "    <tr>\n",
              "      <th>1</th>\n",
              "      <td>UI_449</td>\n",
              "      <td>5</td>\n",
              "      <td>0</td>\n",
              "      <td>1</td>\n",
              "      <td>35</td>\n",
              "      <td>1</td>\n",
              "      <td>19</td>\n",
              "      <td>0.027465</td>\n",
              "      <td>1</td>\n",
              "      <td>0</td>\n",
              "      <td>0</td>\n",
              "      <td>4</td>\n",
              "    </tr>\n",
              "    <tr>\n",
              "      <th>2</th>\n",
              "      <td>UI_9014</td>\n",
              "      <td>0</td>\n",
              "      <td>0</td>\n",
              "      <td>1</td>\n",
              "      <td>40</td>\n",
              "      <td>1</td>\n",
              "      <td>39</td>\n",
              "      <td>0.027465</td>\n",
              "      <td>1</td>\n",
              "      <td>0</td>\n",
              "      <td>0</td>\n",
              "      <td>4</td>\n",
              "    </tr>\n",
              "    <tr>\n",
              "      <th>3</th>\n",
              "      <td>UI_14987</td>\n",
              "      <td>4</td>\n",
              "      <td>3</td>\n",
              "      <td>1</td>\n",
              "      <td>40</td>\n",
              "      <td>2</td>\n",
              "      <td>39</td>\n",
              "      <td>0.027465</td>\n",
              "      <td>1</td>\n",
              "      <td>1</td>\n",
              "      <td>0</td>\n",
              "      <td>2</td>\n",
              "    </tr>\n",
              "    <tr>\n",
              "      <th>4</th>\n",
              "      <td>UI_25532</td>\n",
              "      <td>3</td>\n",
              "      <td>0</td>\n",
              "      <td>0</td>\n",
              "      <td>50</td>\n",
              "      <td>2</td>\n",
              "      <td>39</td>\n",
              "      <td>0.027465</td>\n",
              "      <td>1</td>\n",
              "      <td>1</td>\n",
              "      <td>1</td>\n",
              "      <td>2</td>\n",
              "    </tr>\n",
              "    <tr>\n",
              "      <th>5</th>\n",
              "      <td>UI_22292</td>\n",
              "      <td>4</td>\n",
              "      <td>0</td>\n",
              "      <td>1</td>\n",
              "      <td>40</td>\n",
              "      <td>0</td>\n",
              "      <td>39</td>\n",
              "      <td>0.027465</td>\n",
              "      <td>0</td>\n",
              "      <td>0</td>\n",
              "      <td>0</td>\n",
              "      <td>2</td>\n",
              "    </tr>\n",
              "    <tr>\n",
              "      <th>6</th>\n",
              "      <td>UI_22389</td>\n",
              "      <td>4</td>\n",
              "      <td>0</td>\n",
              "      <td>1</td>\n",
              "      <td>80</td>\n",
              "      <td>2</td>\n",
              "      <td>39</td>\n",
              "      <td>0.027465</td>\n",
              "      <td>1</td>\n",
              "      <td>1</td>\n",
              "      <td>0</td>\n",
              "      <td>2</td>\n",
              "    </tr>\n",
              "    <tr>\n",
              "      <th>7</th>\n",
              "      <td>UI_17</td>\n",
              "      <td>4</td>\n",
              "      <td>0</td>\n",
              "      <td>1</td>\n",
              "      <td>40</td>\n",
              "      <td>2</td>\n",
              "      <td>26</td>\n",
              "      <td>0.027465</td>\n",
              "      <td>0</td>\n",
              "      <td>1</td>\n",
              "      <td>0</td>\n",
              "      <td>2</td>\n",
              "    </tr>\n",
              "    <tr>\n",
              "      <th>8</th>\n",
              "      <td>UI_11739</td>\n",
              "      <td>4</td>\n",
              "      <td>0</td>\n",
              "      <td>1</td>\n",
              "      <td>40</td>\n",
              "      <td>1</td>\n",
              "      <td>39</td>\n",
              "      <td>0.027465</td>\n",
              "      <td>1</td>\n",
              "      <td>1</td>\n",
              "      <td>0</td>\n",
              "      <td>2</td>\n",
              "    </tr>\n",
              "    <tr>\n",
              "      <th>9</th>\n",
              "      <td>UI_16904</td>\n",
              "      <td>3</td>\n",
              "      <td>0</td>\n",
              "      <td>0</td>\n",
              "      <td>25</td>\n",
              "      <td>2</td>\n",
              "      <td>39</td>\n",
              "      <td>0.027465</td>\n",
              "      <td>0</td>\n",
              "      <td>0</td>\n",
              "      <td>0</td>\n",
              "      <td>2</td>\n",
              "    </tr>\n",
              "  </tbody>\n",
              "</table>\n",
              "</div>"
            ],
            "text/plain": [
              "     UserID  industry  genre targeted_sex  average_runtime(minutes_per_week)  \\\n",
              "0   UI_9185         4      0            1                                 40   \n",
              "1    UI_449         5      0            1                                 35   \n",
              "2   UI_9014         0      0            1                                 40   \n",
              "3  UI_14987         4      3            1                                 40   \n",
              "4  UI_25532         3      0            0                                 50   \n",
              "5  UI_22292         4      0            1                                 40   \n",
              "6  UI_22389         4      0            1                                 80   \n",
              "7     UI_17         4      0            1                                 40   \n",
              "8  UI_11739         4      0            1                                 40   \n",
              "9  UI_16904         3      0            0                                 25   \n",
              "\n",
              "   airtime  airlocation   ratings  expensive money_back_guarantee  netgain  \\\n",
              "0        0           39  0.027465          2                    0        0   \n",
              "1        1           19  0.027465          1                    0        0   \n",
              "2        1           39  0.027465          1                    0        0   \n",
              "3        2           39  0.027465          1                    1        0   \n",
              "4        2           39  0.027465          1                    1        1   \n",
              "5        0           39  0.027465          0                    0        0   \n",
              "6        2           39  0.027465          1                    1        0   \n",
              "7        2           26  0.027465          0                    1        0   \n",
              "8        1           39  0.027465          1                    1        0   \n",
              "9        2           39  0.027465          0                    0        0   \n",
              "\n",
              "   relationship_status  \n",
              "0                    2  \n",
              "1                    4  \n",
              "2                    4  \n",
              "3                    2  \n",
              "4                    2  \n",
              "5                    2  \n",
              "6                    2  \n",
              "7                    2  \n",
              "8                    2  \n",
              "9                    2  "
            ]
          },
          "metadata": {
            "tags": []
          },
          "execution_count": 109
        }
      ]
    },
    {
      "cell_type": "code",
      "metadata": {
        "colab": {
          "base_uri": "https://localhost:8080/",
          "height": 347
        },
        "id": "RxEJid51gpc5",
        "outputId": "d9363089-ecce-4798-d732-cf0efb414615"
      },
      "source": [
        "le = preprocessing.LabelEncoder()\r\n",
        "le.fit(test['realtionship_status'])\r\n",
        "list(le.classes_)\r\n",
        "test['relationship_status'] = le.transform(test['realtionship_status']) \r\n",
        "test.drop('realtionship_status',axis=1,inplace=True)\r\n",
        "\r\n",
        "le = preprocessing.LabelEncoder()\r\n",
        "le.fit(test['industry'])\r\n",
        "list(le.classes_)\r\n",
        "test['industry'] = le.transform(test['industry']) \r\n",
        "\r\n",
        "le.fit(test['genre'])\r\n",
        "list(le.classes_)\r\n",
        "test['genre'] = le.transform(test['genre']) \r\n",
        "\r\n",
        "test['targeted_sex'] = test['targeted_sex'].replace(['Male','Female'],['1','0'])\r\n",
        "\r\n",
        "le.fit(test['airtime'])\r\n",
        "list(le.classes_)\r\n",
        "test['airtime'] = le.transform(test['airtime']) \r\n",
        "\r\n",
        "le.fit(test['airlocation'])\r\n",
        "list(le.classes_)\r\n",
        "test['airlocation'] = le.transform(test['airlocation']) #try to normalize\r\n",
        "\r\n",
        "le.fit(test['expensive'])\r\n",
        "list(le.classes_)\r\n",
        "test['expensive'] = le.transform(test['expensive']) \r\n",
        "\r\n",
        "test['money_back_guarantee'] = test['money_back_guarantee'].replace(['Yes','No'],['1','0'])\r\n",
        "test.drop('UserID',axis=1,inplace=True)\r\n",
        "test.head(10)"
      ],
      "execution_count": null,
      "outputs": [
        {
          "output_type": "execute_result",
          "data": {
            "text/html": [
              "<div>\n",
              "<style scoped>\n",
              "    .dataframe tbody tr th:only-of-type {\n",
              "        vertical-align: middle;\n",
              "    }\n",
              "\n",
              "    .dataframe tbody tr th {\n",
              "        vertical-align: top;\n",
              "    }\n",
              "\n",
              "    .dataframe thead th {\n",
              "        text-align: right;\n",
              "    }\n",
              "</style>\n",
              "<table border=\"1\" class=\"dataframe\">\n",
              "  <thead>\n",
              "    <tr style=\"text-align: right;\">\n",
              "      <th></th>\n",
              "      <th>industry</th>\n",
              "      <th>genre</th>\n",
              "      <th>targeted_sex</th>\n",
              "      <th>average_runtime(minutes_per_week)</th>\n",
              "      <th>airtime</th>\n",
              "      <th>airlocation</th>\n",
              "      <th>ratings</th>\n",
              "      <th>expensive</th>\n",
              "      <th>money_back_guarantee</th>\n",
              "      <th>relationship_status</th>\n",
              "    </tr>\n",
              "  </thead>\n",
              "  <tbody>\n",
              "    <tr>\n",
              "      <th>0</th>\n",
              "      <td>2</td>\n",
              "      <td>3</td>\n",
              "      <td>0</td>\n",
              "      <td>40</td>\n",
              "      <td>2</td>\n",
              "      <td>38</td>\n",
              "      <td>0.027465</td>\n",
              "      <td>0</td>\n",
              "      <td>1</td>\n",
              "      <td>4</td>\n",
              "    </tr>\n",
              "    <tr>\n",
              "      <th>1</th>\n",
              "      <td>0</td>\n",
              "      <td>0</td>\n",
              "      <td>0</td>\n",
              "      <td>40</td>\n",
              "      <td>2</td>\n",
              "      <td>38</td>\n",
              "      <td>0.027465</td>\n",
              "      <td>1</td>\n",
              "      <td>0</td>\n",
              "      <td>0</td>\n",
              "    </tr>\n",
              "    <tr>\n",
              "      <th>2</th>\n",
              "      <td>4</td>\n",
              "      <td>3</td>\n",
              "      <td>1</td>\n",
              "      <td>40</td>\n",
              "      <td>2</td>\n",
              "      <td>38</td>\n",
              "      <td>0.027465</td>\n",
              "      <td>0</td>\n",
              "      <td>0</td>\n",
              "      <td>2</td>\n",
              "    </tr>\n",
              "    <tr>\n",
              "      <th>3</th>\n",
              "      <td>0</td>\n",
              "      <td>0</td>\n",
              "      <td>1</td>\n",
              "      <td>30</td>\n",
              "      <td>2</td>\n",
              "      <td>38</td>\n",
              "      <td>0.027465</td>\n",
              "      <td>0</td>\n",
              "      <td>1</td>\n",
              "      <td>4</td>\n",
              "    </tr>\n",
              "    <tr>\n",
              "      <th>4</th>\n",
              "      <td>5</td>\n",
              "      <td>0</td>\n",
              "      <td>1</td>\n",
              "      <td>70</td>\n",
              "      <td>1</td>\n",
              "      <td>38</td>\n",
              "      <td>0.027465</td>\n",
              "      <td>1</td>\n",
              "      <td>0</td>\n",
              "      <td>4</td>\n",
              "    </tr>\n",
              "    <tr>\n",
              "      <th>5</th>\n",
              "      <td>0</td>\n",
              "      <td>0</td>\n",
              "      <td>1</td>\n",
              "      <td>66</td>\n",
              "      <td>2</td>\n",
              "      <td>38</td>\n",
              "      <td>0.027465</td>\n",
              "      <td>1</td>\n",
              "      <td>1</td>\n",
              "      <td>4</td>\n",
              "    </tr>\n",
              "    <tr>\n",
              "      <th>6</th>\n",
              "      <td>4</td>\n",
              "      <td>0</td>\n",
              "      <td>1</td>\n",
              "      <td>40</td>\n",
              "      <td>2</td>\n",
              "      <td>38</td>\n",
              "      <td>0.027465</td>\n",
              "      <td>1</td>\n",
              "      <td>0</td>\n",
              "      <td>2</td>\n",
              "    </tr>\n",
              "    <tr>\n",
              "      <th>7</th>\n",
              "      <td>5</td>\n",
              "      <td>0</td>\n",
              "      <td>1</td>\n",
              "      <td>40</td>\n",
              "      <td>2</td>\n",
              "      <td>38</td>\n",
              "      <td>0.027465</td>\n",
              "      <td>2</td>\n",
              "      <td>0</td>\n",
              "      <td>4</td>\n",
              "    </tr>\n",
              "    <tr>\n",
              "      <th>8</th>\n",
              "      <td>0</td>\n",
              "      <td>0</td>\n",
              "      <td>1</td>\n",
              "      <td>15</td>\n",
              "      <td>0</td>\n",
              "      <td>38</td>\n",
              "      <td>0.027465</td>\n",
              "      <td>1</td>\n",
              "      <td>1</td>\n",
              "      <td>0</td>\n",
              "    </tr>\n",
              "    <tr>\n",
              "      <th>9</th>\n",
              "      <td>2</td>\n",
              "      <td>0</td>\n",
              "      <td>1</td>\n",
              "      <td>40</td>\n",
              "      <td>1</td>\n",
              "      <td>38</td>\n",
              "      <td>0.027465</td>\n",
              "      <td>1</td>\n",
              "      <td>0</td>\n",
              "      <td>4</td>\n",
              "    </tr>\n",
              "  </tbody>\n",
              "</table>\n",
              "</div>"
            ],
            "text/plain": [
              "   industry  genre targeted_sex  average_runtime(minutes_per_week)  airtime  \\\n",
              "0         2      3            0                                 40        2   \n",
              "1         0      0            0                                 40        2   \n",
              "2         4      3            1                                 40        2   \n",
              "3         0      0            1                                 30        2   \n",
              "4         5      0            1                                 70        1   \n",
              "5         0      0            1                                 66        2   \n",
              "6         4      0            1                                 40        2   \n",
              "7         5      0            1                                 40        2   \n",
              "8         0      0            1                                 15        0   \n",
              "9         2      0            1                                 40        1   \n",
              "\n",
              "   airlocation   ratings  expensive money_back_guarantee  relationship_status  \n",
              "0           38  0.027465          0                    1                    4  \n",
              "1           38  0.027465          1                    0                    0  \n",
              "2           38  0.027465          0                    0                    2  \n",
              "3           38  0.027465          0                    1                    4  \n",
              "4           38  0.027465          1                    0                    4  \n",
              "5           38  0.027465          1                    1                    4  \n",
              "6           38  0.027465          1                    0                    2  \n",
              "7           38  0.027465          2                    0                    4  \n",
              "8           38  0.027465          1                    1                    0  \n",
              "9           38  0.027465          1                    0                    4  "
            ]
          },
          "metadata": {
            "tags": []
          },
          "execution_count": 110
        }
      ]
    },
    {
      "cell_type": "code",
      "metadata": {
        "id": "V1SsLhwtbB1F"
      },
      "source": [
        "features = ['industry','genre','targeted_sex','average_runtime(minutes_per_week)','airtime','airlocation','ratings','expensive','money_back_guarantee','relationship_status']\r\n",
        "X= train[features]\r\n",
        "y= train['netgain']"
      ],
      "execution_count": null,
      "outputs": []
    },
    {
      "cell_type": "code",
      "metadata": {
        "id": "m4sWQ0hPvjiV"
      },
      "source": [
        "X_train, X_test, y_train, y_test = train_test_split(X, y, test_size=0.2, random_state=2)"
      ],
      "execution_count": null,
      "outputs": []
    },
    {
      "cell_type": "markdown",
      "metadata": {
        "id": "3u3DDWlSsi6n"
      },
      "source": [
        "Random Forest "
      ]
    },
    {
      "cell_type": "code",
      "metadata": {
        "colab": {
          "base_uri": "https://localhost:8080/"
        },
        "id": "lS1BGQ4alEkY",
        "outputId": "da23826f-965d-47dc-9e4c-3b784002bd72"
      },
      "source": [
        "RF = RandomForestClassifier()\r\n",
        "RF.fit(X_train,y_train)\r\n",
        "y_pred2 = RF.predict(X_test)\r\n",
        "f1_metric = f1_score(y_test,y_pred2)\r\n",
        "print(f1_metric)"
      ],
      "execution_count": null,
      "outputs": [
        {
          "output_type": "stream",
          "text": [
            "0.5368484122228879\n"
          ],
          "name": "stdout"
        }
      ]
    },
    {
      "cell_type": "code",
      "metadata": {
        "id": "xy05hKg8lVPB"
      },
      "source": [
        "datasets = pd.DataFrame(y_pred2,columns=['netgain'])\r\n",
        "datasets.to_csv('sample_submission_RFC.csv',index=False)"
      ],
      "execution_count": null,
      "outputs": []
    },
    {
      "cell_type": "markdown",
      "metadata": {
        "id": "svU_uACeswKd"
      },
      "source": [
        "VotingClassifier "
      ]
    },
    {
      "cell_type": "code",
      "metadata": {
        "colab": {
          "background_save": true
        },
        "id": "0q-4iuGYugwf",
        "outputId": "053b30ac-43b6-4625-c456-3c7a4251d886"
      },
      "source": [
        "from sklearn.svm import SVC\r\n",
        "from sklearn.ensemble import VotingClassifier\r\n",
        "estimator = [] \r\n",
        "estimator.append(('LR',  \r\n",
        "                  LogisticRegression())) \r\n",
        "estimator.append(('SVC', SVC(gamma ='auto', probability = True))) \r\n",
        "estimator.append(('DTC', DecisionTreeClassifier()))\r\n",
        "\r\n",
        "vc=VotingClassifier(estimators = estimator, voting ='hard') \r\n",
        "vc.fit(X_train,y_train)\r\n",
        "#model on train using all the independent values in df\r\n",
        "vc_prediction = vc.predict(X_train)\r\n",
        "vc_score= accuracy_score(y_train,vc_prediction)\r\n",
        "print('voting classifier train set accuracy score :',vc_score)\r\n",
        "#model on test using all the independent values in df\r\n",
        "vc_prediction = vc.predict(X_test)\r\n",
        "vc_score= accuracy_score(y_test,vc_prediction)\r\n",
        "print('voting classifier train set accuracy score :',vc_score)"
      ],
      "execution_count": null,
      "outputs": [
        {
          "output_type": "stream",
          "text": [
            "voting classifier train set accuracy score : 0.8057972869209112\n",
            "voting classifier train set accuracy score : 0.7876151484135108\n"
          ],
          "name": "stdout"
        }
      ]
    },
    {
      "cell_type": "code",
      "metadata": {
        "colab": {
          "background_save": true
        },
        "id": "4M5DWZxSupD2"
      },
      "source": [
        "y_pred3 = vc.predict(test)\r\n",
        "datasets = pd.DataFrame(y_pred3,columns=['netgain'])\r\n",
        "datasets.to_csv('sample_submission_VC.csv',index=False)"
      ],
      "execution_count": null,
      "outputs": []
    },
    {
      "cell_type": "code",
      "metadata": {
        "id": "gRacP9GSmbtv",
        "colab": {
          "base_uri": "https://localhost:8080/"
        },
        "outputId": "088cfce4-5f9c-45f3-f99b-bf4950315bfd"
      },
      "source": [
        "vc=VotingClassifier(estimators = estimator, voting ='soft') \r\n",
        "vc.fit(X_train,y_train)\r\n",
        "#model on train using all the independent values in df\r\n",
        "vc_prediction = vc.predict(X_train)\r\n",
        "vc_score= accuracy_score(y_train,vc_prediction)\r\n",
        "print('voting classifier train set accuracy score :',vc_score)\r\n",
        "#model on test using all the independent values in df\r\n",
        "vc_prediction = vc.predict(X_test)\r\n",
        "vc_score= accuracy_score(y_test,vc_prediction)\r\n",
        "print('voting classifier test set accuracy score :',vc_score)\r\n",
        "f1_metric = f1_score(y_test,vc_prediction)\r\n",
        "print(f1_metric)"
      ],
      "execution_count": 126,
      "outputs": [
        {
          "output_type": "stream",
          "text": [
            "voting classifier train set accuracy score : 0.8313391771706443\n",
            "voting classifier test set accuracy score : 0.8047094957768108\n",
            "0.4584811923349894\n"
          ],
          "name": "stdout"
        }
      ]
    },
    {
      "cell_type": "code",
      "metadata": {
        "id": "rAS6rE3pnwgn"
      },
      "source": [
        "y_pred4 = vc.predict(test)\r\n",
        "datasets = pd.DataFrame(y_pred4,columns=['netgain'])\r\n",
        "datasets.to_csv('sample_submission_VC2.csv',index=False)"
      ],
      "execution_count": null,
      "outputs": []
    },
    {
      "cell_type": "markdown",
      "metadata": {
        "id": "nP1aE8tIs1no"
      },
      "source": [
        "Gaussian Naive Bayes"
      ]
    },
    {
      "cell_type": "code",
      "metadata": {
        "id": "zEeNt6pmpzUP",
        "colab": {
          "base_uri": "https://localhost:8080/"
        },
        "outputId": "18bfa425-0aff-4eb8-992b-a90208f0ee21"
      },
      "source": [
        "GNB=GaussianNB()\r\n",
        "GNB.fit(X_train,y_train)\r\n",
        "#model on train using all the independent values in df\r\n",
        "GNB_prediction = GNB.predict(X_train)\r\n",
        "GNB_score= accuracy_score(y_train,GNB_prediction)\r\n",
        "print('GNB classifier train set accuracy score :',GNB_score)\r\n",
        "#model on test using all the independent values in df\r\n",
        "GNB_prediction = GNB.predict(X_test)\r\n",
        "GNB_score= accuracy_score(y_test,GNB_prediction)\r\n",
        "print('GNB classifier test set accuracy score :',GNB_score)\r\n",
        "f1_metric = f1_score(y_test,GNB_prediction)\r\n",
        "print(f1_metric)"
      ],
      "execution_count": 127,
      "outputs": [
        {
          "output_type": "stream",
          "text": [
            "GNB classifier train set accuracy score : 0.801842728261565\n",
            "GNB classifier test set accuracy score : 0.8088047094957768\n",
            "0.33717834960070986\n"
          ],
          "name": "stdout"
        }
      ]
    },
    {
      "cell_type": "code",
      "metadata": {
        "id": "i76_ISReqTw-"
      },
      "source": [
        "y_pred5 = GNB.predict(test)\r\n",
        "datasets = pd.DataFrame(y_pred5,columns=['netgain'])\r\n",
        "datasets.to_csv('sample_submission_GNB.csv',index=False)"
      ],
      "execution_count": null,
      "outputs": []
    },
    {
      "cell_type": "markdown",
      "metadata": {
        "id": "mMlXe-I1tDN8"
      },
      "source": [
        "Logistic Regression"
      ]
    },
    {
      "cell_type": "code",
      "metadata": {
        "id": "rvfTMR5Eq5He",
        "colab": {
          "base_uri": "https://localhost:8080/"
        },
        "outputId": "56ee0cac-e7a2-44b3-b450-dbcebebb6692"
      },
      "source": [
        "LR=LogisticRegression()\r\n",
        "LR.fit(X_train,y_train)\r\n",
        "#model on train using all the independent values in df\r\n",
        "LR_prediction = LR.predict(X_train)\r\n",
        "LR_score= accuracy_score(y_train,LR_prediction)\r\n",
        "print('LR classifier train set accuracy score :',LR_score)\r\n",
        "#model on test using all the independent values in df\r\n",
        "LR_prediction = LR.predict(X_test)\r\n",
        "LR_score= accuracy_score(y_test,LR_prediction)\r\n",
        "print('LR classifier test set accuracy score :',LR_score)\r\n",
        "f1_metric = f1_score(y_test,LR_prediction)\r\n",
        "print(f1_metric)"
      ],
      "execution_count": 125,
      "outputs": [
        {
          "output_type": "stream",
          "text": [
            "LR classifier train set accuracy score : 0.7743297715784759\n",
            "LR classifier test set accuracy score : 0.7783465574609675\n",
            "0.2322695035460993\n"
          ],
          "name": "stdout"
        }
      ]
    },
    {
      "cell_type": "code",
      "metadata": {
        "id": "hLSAuEDwrP47"
      },
      "source": [
        "y_pred6 = LR.predict(test)\r\n",
        "datasets = pd.DataFrame(y_pred6,columns=['netgain'])\r\n",
        "datasets.to_csv('sample_submission_LR.csv',index=False)"
      ],
      "execution_count": null,
      "outputs": []
    },
    {
      "cell_type": "code",
      "metadata": {
        "id": "DJXddB8st4y-"
      },
      "source": [
        ""
      ],
      "execution_count": null,
      "outputs": []
    }
  ]
}